{
 "cells": [
  {
   "cell_type": "code",
   "execution_count": 1,
   "metadata": {},
   "outputs": [],
   "source": [
    "import pandas as pd\n",
    "import numpy as np\n"
   ]
  },
  {
   "cell_type": "markdown",
   "metadata": {},
   "source": [
    "Load the data into Pandas dataframes:"
   ]
  },
  {
   "cell_type": "code",
   "execution_count": 2,
   "metadata": {},
   "outputs": [],
   "source": [
    "movies = pd.read_csv('movies2.csv')  # Movie information, including genres\n",
    "ratings = pd.read_csv('ratings2.csv')  # Ratings by users"
   ]
  },
  {
   "cell_type": "markdown",
   "metadata": {},
   "source": [
    "Merge the movies and ratings datasets to associate movies with their ratings:"
   ]
  },
  {
   "cell_type": "code",
   "execution_count": 3,
   "metadata": {},
   "outputs": [],
   "source": [
    "movie_ratings = pd.merge(movies, ratings, on='movieId')"
   ]
  },
  {
   "cell_type": "markdown",
   "metadata": {},
   "source": [
    "Group the data by movie and calculate the number of ratings (v) and the average rating (R):"
   ]
  },
  {
   "cell_type": "code",
   "execution_count": 4,
   "metadata": {},
   "outputs": [],
   "source": [
    "# Calculate number of ratings (v) and average rating (R) for each movie\n",
    "movie_stats = movie_ratings.groupby('movieId').agg({\n",
    "    'rating': ['mean', 'count']\n",
    "})\n",
    "movie_stats.columns = ['R', 'v']\n"
   ]
  },
  {
   "cell_type": "markdown",
   "metadata": {},
   "source": [
    "C : is the mean rating across the whole dataset.\n",
    "m : is the minimum number of ratings required to consider a movie for recommendation. You can set it to a suitable value like the 90th percentile of the number of ratings for movies."
   ]
  },
  {
   "cell_type": "code",
   "execution_count": 5,
   "metadata": {},
   "outputs": [],
   "source": [
    "C = movie_ratings['rating'].mean()  # Mean rating across the whole dataset\n",
    "m = movie_stats['v'].quantile(0.90)  # Set m to the 90th percentile of the number of ratings"
   ]
  },
  {
   "cell_type": "markdown",
   "metadata": {},
   "source": [
    "Filter movies with at least m ratings: Only consider movies with more than m ratings to make recommendations more reliable."
   ]
  },
  {
   "cell_type": "code",
   "execution_count": 6,
   "metadata": {},
   "outputs": [],
   "source": [
    "qualified_movies = movie_stats[movie_stats['v'] >= m]"
   ]
  },
  {
   "cell_type": "markdown",
   "metadata": {},
   "source": [
    "Use the formula provided to calculate the weighted score for each movie:"
   ]
  },
  {
   "cell_type": "code",
   "execution_count": 7,
   "metadata": {},
   "outputs": [
    {
     "name": "stderr",
     "output_type": "stream",
     "text": [
      "/var/folders/x7/38_r07wx7xx11562gsptpftr0000gn/T/ipykernel_65904/109635646.py:1: SettingWithCopyWarning: \n",
      "A value is trying to be set on a copy of a slice from a DataFrame.\n",
      "Try using .loc[row_indexer,col_indexer] = value instead\n",
      "\n",
      "See the caveats in the documentation: https://pandas.pydata.org/pandas-docs/stable/user_guide/indexing.html#returning-a-view-versus-a-copy\n",
      "  qualified_movies['score'] = (qualified_movies['v'] / (qualified_movies['v'] + m) * qualified_movies['R']) + (m / (m + qualified_movies['v']) * C)\n"
     ]
    }
   ],
   "source": [
    "qualified_movies['score'] = (qualified_movies['v'] / (qualified_movies['v'] + m) * qualified_movies['R']) + (m / (m + qualified_movies['v']) * C)"
   ]
  },
  {
   "cell_type": "markdown",
   "metadata": {},
   "source": [
    "To recommend movies based on a user’s preferred genre (e.g., \"Action\"), filter the movies dataframe by genre. Then, merge it with the qualified_movies dataframe to get the final list of recommended movies in the desired genre. eg: \"Action\" genre"
   ]
  },
  {
   "cell_type": "code",
   "execution_count": 8,
   "metadata": {},
   "outputs": [],
   "source": [
    "genre = 'Action'\n",
    "genre_movies = movies[movies['genres'].str.contains(genre, case=False)]\n",
    "recommended_movies = pd.merge(genre_movies, qualified_movies, on='movieId')"
   ]
  },
  {
   "cell_type": "markdown",
   "metadata": {},
   "source": [
    "Finally, sort the movies by their calculated weighted score in descending order and pick the top n movies to recommend."
   ]
  },
  {
   "cell_type": "code",
   "execution_count": 9,
   "metadata": {},
   "outputs": [],
   "source": [
    "top_n_recommendations = recommended_movies.sort_values('score', ascending=False).head(10)"
   ]
  },
  {
   "cell_type": "markdown",
   "metadata": {},
   "source": [
    "Display the results"
   ]
  },
  {
   "cell_type": "code",
   "execution_count": 10,
   "metadata": {},
   "outputs": [
    {
     "name": "stdout",
     "output_type": "stream",
     "text": [
      "                                                 title     score\n",
      "124                                  Fight Club (1999)  4.176763\n",
      "112                                 Matrix, The (1999)  4.114653\n",
      "55   Star Wars: Episode V - The Empire Strikes Back...  4.082786\n",
      "19           Star Wars: Episode IV - A New Hope (1977)  4.053112\n",
      "57   Raiders of the Lost Ark (Indiana Jones and the...  4.038848\n",
      "101                         Saving Private Ryan (1998)  4.020876\n",
      "56                          Princess Bride, The (1987)  4.020047\n",
      "40                                 Blade Runner (1982)  4.014919\n",
      "22   Léon: The Professional (a.k.a. The Professiona...  4.003812\n",
      "59   Good, the Bad and the Ugly, The (Buono, il bru...  3.996961\n"
     ]
    }
   ],
   "source": [
    "print(top_n_recommendations[['title', 'score']])"
   ]
  }
 ],
 "metadata": {
  "kernelspec": {
   "display_name": "Python 3",
   "language": "python",
   "name": "python3"
  },
  "language_info": {
   "codemirror_mode": {
    "name": "ipython",
    "version": 3
   },
   "file_extension": ".py",
   "mimetype": "text/x-python",
   "name": "python",
   "nbconvert_exporter": "python",
   "pygments_lexer": "ipython3",
   "version": "3.10.8"
  }
 },
 "nbformat": 4,
 "nbformat_minor": 2
}
