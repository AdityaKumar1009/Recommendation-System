{
 "cells": [
  {
   "cell_type": "code",
   "execution_count": 96,
   "metadata": {},
   "outputs": [],
   "source": [
    "import pandas as pd\n",
    "import numpy as np"
   ]
  },
  {
   "cell_type": "markdown",
   "metadata": {},
   "source": [
    "Load the movies and ratings data into Pandas dataframes:"
   ]
  },
  {
   "cell_type": "code",
   "execution_count": 97,
   "metadata": {},
   "outputs": [],
   "source": [
    "movies = pd.read_csv('movies2.csv')  # Movie information, including genres\n",
    "ratings = pd.read_csv('ratings2.csv')  # Ratings by users"
   ]
  },
  {
   "cell_type": "markdown",
   "metadata": {},
   "source": [
    "The pivot table will have movie titles as the index, userId as columns, and values as the ratings given by users. Use NaN for missing ratings (where the user hasn’t rated a movie)."
   ]
  },
  {
   "cell_type": "code",
   "execution_count": 98,
   "metadata": {},
   "outputs": [],
   "source": [
    "# Merge movies and ratings\n",
    "movie_ratings = pd.merge(movies, ratings, on='movieId')\n",
    "\n",
    "# Create the pivot table (movie_matrix)\n",
    "movie_matrix = movie_ratings.pivot_table(index='title', columns='userId', values='rating')"
   ]
  },
  {
   "cell_type": "code",
   "execution_count": 99,
   "metadata": {},
   "outputs": [],
   "source": [
    "target_movie = \"Titanic (1997)\""
   ]
  },
  {
   "cell_type": "markdown",
   "metadata": {},
   "source": [
    "Extract the user ratings for the movie you want to base your recommendations on:"
   ]
  },
  {
   "cell_type": "code",
   "execution_count": 100,
   "metadata": {},
   "outputs": [],
   "source": [
    "target_movie_ratings = movie_matrix.loc[target_movie]"
   ]
  },
  {
   "cell_type": "code",
   "execution_count": 101,
   "metadata": {},
   "outputs": [
    {
     "name": "stdout",
     "output_type": "stream",
     "text": [
      "True\n"
     ]
    }
   ],
   "source": [
    "print(target_movie in movie_matrix.index)"
   ]
  },
  {
   "cell_type": "code",
   "execution_count": 102,
   "metadata": {},
   "outputs": [
    {
     "name": "stdout",
     "output_type": "stream",
     "text": [
      "No similar movies found with sufficient ratings.\n"
     ]
    }
   ],
   "source": [
    "# Check if the target movie exists in the matrix\n",
    "if target_movie in movie_matrix.index:\n",
    "    # Get ratings for the target movie\n",
    "    target_movie_ratings = movie_matrix.loc[target_movie]\n",
    "\n",
    "    # Calculate correlations with other movies\n",
    "    similar_movies = movie_matrix.corrwith(target_movie_ratings)\n",
    "\n",
    "    # Drop NaN values and convert to DataFrame\n",
    "    similar_movies = similar_movies.dropna().to_frame(name='correlation')\n",
    "\n",
    "    # Calculate movie stats and merge\n",
    "    movie_stats = movie_ratings.groupby('title').agg({'rating': ['mean', 'count']})\n",
    "    movie_stats.columns = ['mean_rating', 'num_ratings']\n",
    "    similar_movies = similar_movies.join(movie_stats['num_ratings'])\n",
    "\n",
    "    # Check if there are any movies with a sufficient number of ratings\n",
    "    if not similar_movies.empty:\n",
    "        # Filter movies by number of ratings\n",
    "        similar_movies = similar_movies[similar_movies['num_ratings'] > 10]\n",
    "\n",
    "        # Sort by correlation\n",
    "        similar_movies = similar_movies.sort_values('correlation', ascending=False)\n",
    "        print(similar_movies)\n",
    "    else:\n",
    "        print(\"No similar movies found with sufficient ratings.\")\n",
    "else:\n",
    "    print(f\"The movie '{target_movie}' does not exist in the dataset or has insufficient ratings.\")\n",
    "\n"
   ]
  }
 ],
 "metadata": {
  "kernelspec": {
   "display_name": "Python 3",
   "language": "python",
   "name": "python3"
  },
  "language_info": {
   "codemirror_mode": {
    "name": "ipython",
    "version": 3
   },
   "file_extension": ".py",
   "mimetype": "text/x-python",
   "name": "python",
   "nbconvert_exporter": "python",
   "pygments_lexer": "ipython3",
   "version": "3.10.8"
  }
 },
 "nbformat": 4,
 "nbformat_minor": 2
}
